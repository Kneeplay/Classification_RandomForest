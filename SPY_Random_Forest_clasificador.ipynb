{
  "nbformat": 4,
  "nbformat_minor": 0,
  "metadata": {
    "colab": {
      "name": "SPY - Random Forest clasificador",
      "version": "0.3.2",
      "provenance": [],
      "include_colab_link": true
    },
    "kernelspec": {
      "name": "python3",
      "display_name": "Python 3"
    }
  },
  "cells": [
    {
      "cell_type": "markdown",
      "metadata": {
        "id": "view-in-github",
        "colab_type": "text"
      },
      "source": [
        "[View in Colaboratory](https://colab.research.google.com/github/Kneeplay/Classification_RandomForest/blob/master/SPY_Random_Forest_clasificador.ipynb)"
      ]
    },
    {
      "metadata": {
        "id": "u-ko6l_JU4bX",
        "colab_type": "text"
      },
      "cell_type": "markdown",
      "source": [
        "Carga de datos a partir de un fichero csv en Google Collaboratory:"
      ]
    },
    {
      "metadata": {
        "id": "Bghgn4riU41_",
        "colab_type": "code",
        "colab": {
          "resources": {
            "http://localhost:8080/nbextensions/google.colab/files.js": {
              "data": "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",
              "ok": true,
              "headers": [
                [
                  "content-type",
                  "application/javascript"
                ]
              ],
              "status": 200,
              "status_text": ""
            }
          },
          "base_uri": "https://localhost:8080/",
          "height": 89
        },
        "outputId": "1dafffd1-2bd2-41dc-cfc0-217e7a19b889"
      },
      "cell_type": "code",
      "source": [
        "from google.colab import files\n",
        "\n",
        "uploaded = files.upload()\n",
        "\n",
        "for fn in uploaded.keys():\n",
        "  print('User uploaded file \"{name}\" with length {length} bytes'.format(\n",
        "      name=fn, length=len(uploaded[fn])))"
      ],
      "execution_count": 6,
      "outputs": [
        {
          "output_type": "display_data",
          "data": {
            "text/html": [
              "\n",
              "     <input type=\"file\" id=\"files-31ecd622-333d-454c-b103-bdd451e5ab5e\" name=\"files[]\" multiple disabled />\n",
              "     <output id=\"result-31ecd622-333d-454c-b103-bdd451e5ab5e\">\n",
              "      Upload widget is only available when the cell has been executed in the\n",
              "      current browser session. Please rerun this cell to enable.\n",
              "      </output>\n",
              "      <script src=\"/nbextensions/google.colab/files.js\"></script> "
            ],
            "text/plain": [
              "<IPython.core.display.HTML object>"
            ]
          },
          "metadata": {
            "tags": []
          }
        },
        {
          "output_type": "stream",
          "text": [
            "Saving SPYV3-18VAR.csv to SPYV3-18VAR.csv\n",
            "User uploaded file \"SPYV3-18VAR.csv\" with length 426316 bytes\n"
          ],
          "name": "stdout"
        }
      ]
    },
    {
      "metadata": {
        "id": "akIQOUXuVNi3",
        "colab_type": "text"
      },
      "cell_type": "markdown",
      "source": [
        "Carga de datos en un DataFrame con el nombre spy del dataset. Visualizamos la cabecera y los primeros 4 registros:"
      ]
    },
    {
      "metadata": {
        "id": "vvVW2zI_VPYc",
        "colab_type": "code",
        "colab": {
          "base_uri": "https://localhost:8080/",
          "height": 204
        },
        "outputId": "7506fd3e-c7a3-43dd-9e4f-231351f39ba6"
      },
      "cell_type": "code",
      "source": [
        "import pandas as pd\n",
        "import io\n",
        "spy = pd.read_csv(io.StringIO(uploaded[fn].decode('utf-8')), sep=',', usecols=['CLASIFICADOR','1','31','42','46','47','48','60','68','76','77', '93','171','173','191','221','225','237','FECHA.month'])\n",
        "                                                       \n",
        "                                                       \n",
        "                                                      \n",
        "                                                      \n",
        "                                                    \n",
        "                                                       \n",
        "spy.head()"
      ],
      "execution_count": 25,
      "outputs": [
        {
          "output_type": "execute_result",
          "data": {
            "text/html": [
              "<div>\n",
              "<style scoped>\n",
              "    .dataframe tbody tr th:only-of-type {\n",
              "        vertical-align: middle;\n",
              "    }\n",
              "\n",
              "    .dataframe tbody tr th {\n",
              "        vertical-align: top;\n",
              "    }\n",
              "\n",
              "    .dataframe thead th {\n",
              "        text-align: right;\n",
              "    }\n",
              "</style>\n",
              "<table border=\"1\" class=\"dataframe\">\n",
              "  <thead>\n",
              "    <tr style=\"text-align: right;\">\n",
              "      <th></th>\n",
              "      <th>CLASIFICADOR</th>\n",
              "      <th>1</th>\n",
              "      <th>31</th>\n",
              "      <th>42</th>\n",
              "      <th>46</th>\n",
              "      <th>47</th>\n",
              "      <th>48</th>\n",
              "      <th>60</th>\n",
              "      <th>68</th>\n",
              "      <th>76</th>\n",
              "      <th>77</th>\n",
              "      <th>93</th>\n",
              "      <th>171</th>\n",
              "      <th>173</th>\n",
              "      <th>191</th>\n",
              "      <th>221</th>\n",
              "      <th>225</th>\n",
              "      <th>237</th>\n",
              "      <th>FECHA.month</th>\n",
              "    </tr>\n",
              "  </thead>\n",
              "  <tbody>\n",
              "    <tr>\n",
              "      <th>0</th>\n",
              "      <td>1</td>\n",
              "      <td>2.17</td>\n",
              "      <td>141.82</td>\n",
              "      <td>0.19</td>\n",
              "      <td>1.2847</td>\n",
              "      <td>27.33</td>\n",
              "      <td>1.3908</td>\n",
              "      <td>-58.5</td>\n",
              "      <td>0.97</td>\n",
              "      <td>15.01</td>\n",
              "      <td>-0.34</td>\n",
              "      <td>2.4</td>\n",
              "      <td>-0.08</td>\n",
              "      <td>10.96</td>\n",
              "      <td>9.48</td>\n",
              "      <td>23.43</td>\n",
              "      <td>1039427977</td>\n",
              "      <td>4.7209</td>\n",
              "      <td>3</td>\n",
              "    </tr>\n",
              "    <tr>\n",
              "      <th>1</th>\n",
              "      <td>1</td>\n",
              "      <td>2.16</td>\n",
              "      <td>142.01</td>\n",
              "      <td>0.19</td>\n",
              "      <td>1.2799</td>\n",
              "      <td>26.03</td>\n",
              "      <td>1.3792</td>\n",
              "      <td>-43.7</td>\n",
              "      <td>0.95</td>\n",
              "      <td>0.00</td>\n",
              "      <td>-0.07</td>\n",
              "      <td>7.6</td>\n",
              "      <td>-0.07</td>\n",
              "      <td>10.96</td>\n",
              "      <td>9.48</td>\n",
              "      <td>23.49</td>\n",
              "      <td>544544364</td>\n",
              "      <td>1.6001</td>\n",
              "      <td>3</td>\n",
              "    </tr>\n",
              "    <tr>\n",
              "      <th>2</th>\n",
              "      <td>1</td>\n",
              "      <td>2.13</td>\n",
              "      <td>141.98</td>\n",
              "      <td>0.19</td>\n",
              "      <td>1.2831</td>\n",
              "      <td>25.50</td>\n",
              "      <td>1.3709</td>\n",
              "      <td>-28.2</td>\n",
              "      <td>0.99</td>\n",
              "      <td>15.09</td>\n",
              "      <td>-0.07</td>\n",
              "      <td>0.2</td>\n",
              "      <td>-0.07</td>\n",
              "      <td>10.99</td>\n",
              "      <td>9.48</td>\n",
              "      <td>22.92</td>\n",
              "      <td>507977208</td>\n",
              "      <td>-1.4107</td>\n",
              "      <td>3</td>\n",
              "    </tr>\n",
              "    <tr>\n",
              "      <th>3</th>\n",
              "      <td>1</td>\n",
              "      <td>2.10</td>\n",
              "      <td>141.97</td>\n",
              "      <td>0.19</td>\n",
              "      <td>1.2845</td>\n",
              "      <td>24.90</td>\n",
              "      <td>1.3661</td>\n",
              "      <td>-14.2</td>\n",
              "      <td>0.99</td>\n",
              "      <td>14.90</td>\n",
              "      <td>-0.02</td>\n",
              "      <td>-1.0</td>\n",
              "      <td>-0.06</td>\n",
              "      <td>10.97</td>\n",
              "      <td>9.48</td>\n",
              "      <td>22.75</td>\n",
              "      <td>1330374457</td>\n",
              "      <td>-0.2309</td>\n",
              "      <td>3</td>\n",
              "    </tr>\n",
              "    <tr>\n",
              "      <th>4</th>\n",
              "      <td>1</td>\n",
              "      <td>2.07</td>\n",
              "      <td>141.98</td>\n",
              "      <td>0.19</td>\n",
              "      <td>1.2945</td>\n",
              "      <td>24.71</td>\n",
              "      <td>1.3641</td>\n",
              "      <td>-10.8</td>\n",
              "      <td>0.97</td>\n",
              "      <td>14.38</td>\n",
              "      <td>0.21</td>\n",
              "      <td>-0.5</td>\n",
              "      <td>-0.06</td>\n",
              "      <td>10.95</td>\n",
              "      <td>9.48</td>\n",
              "      <td>22.75</td>\n",
              "      <td>977047937</td>\n",
              "      <td>-0.8835</td>\n",
              "      <td>3</td>\n",
              "    </tr>\n",
              "  </tbody>\n",
              "</table>\n",
              "</div>"
            ],
            "text/plain": [
              "   CLASIFICADOR     1      31    42      46     47      48    60    68     76  \\\n",
              "0             1  2.17  141.82  0.19  1.2847  27.33  1.3908 -58.5  0.97  15.01   \n",
              "1             1  2.16  142.01  0.19  1.2799  26.03  1.3792 -43.7  0.95   0.00   \n",
              "2             1  2.13  141.98  0.19  1.2831  25.50  1.3709 -28.2  0.99  15.09   \n",
              "3             1  2.10  141.97  0.19  1.2845  24.90  1.3661 -14.2  0.99  14.90   \n",
              "4             1  2.07  141.98  0.19  1.2945  24.71  1.3641 -10.8  0.97  14.38   \n",
              "\n",
              "     77   93   171    173   191    221         225     237  FECHA.month  \n",
              "0 -0.34  2.4 -0.08  10.96  9.48  23.43  1039427977  4.7209            3  \n",
              "1 -0.07  7.6 -0.07  10.96  9.48  23.49   544544364  1.6001            3  \n",
              "2 -0.07  0.2 -0.07  10.99  9.48  22.92   507977208 -1.4107            3  \n",
              "3 -0.02 -1.0 -0.06  10.97  9.48  22.75  1330374457 -0.2309            3  \n",
              "4  0.21 -0.5 -0.06  10.95  9.48  22.75   977047937 -0.8835            3  "
            ]
          },
          "metadata": {
            "tags": []
          },
          "execution_count": 25
        }
      ]
    },
    {
      "metadata": {
        "id": "eFvtShWpVcWP",
        "colab_type": "text"
      },
      "cell_type": "markdown",
      "source": [
        "Se eliminan los atributos que no van a usarse y se factorizan los atributos que estñan catogorizados por letras:"
      ]
    },
    {
      "metadata": {
        "id": "Yn6X25M-V4a7",
        "colab_type": "text"
      },
      "cell_type": "markdown",
      "source": [
        "División del conjunto en train y test:"
      ]
    },
    {
      "metadata": {
        "id": "aBM6Dl90V4hN",
        "colab_type": "code",
        "colab": {
          "base_uri": "https://localhost:8080/",
          "height": 85
        },
        "outputId": "a42355d8-707b-41b0-c2d5-f971475914d3"
      },
      "cell_type": "code",
      "source": [
        "p_train = 0.80 # Porcentaje de train. Modificar para obtener diferentes conjuntos.\n",
        "\n",
        "train = spy[:int((len(spy))*p_train)]\n",
        "test = spy[int((len(spy))*p_train):]\n",
        "\n",
        "print(\"Ejemplos usados para entrenar: \", len(train))\n",
        "print(\"Ejemplos usados para test: \", len(test))\n",
        "print(\"\\n\")\n",
        "\n",
        "features = spy.columns[1:]\n",
        "x_train = train[features]\n",
        "y_train = train['CLASIFICADOR']\n",
        "\n",
        "x_test = test[features]"
      ],
      "execution_count": 26,
      "outputs": [
        {
          "output_type": "stream",
          "text": [
            "Ejemplos usados para entrenar:  2273\n",
            "Ejemplos usados para test:  569\n",
            "\n",
            "\n"
          ],
          "name": "stdout"
        }
      ]
    },
    {
      "metadata": {
        "id": "AyWtSu9cWGZy",
        "colab_type": "text"
      },
      "cell_type": "markdown",
      "source": [
        "Utilización de RandomizedSearchCV para determinar la mejor parametrización"
      ]
    },
    {
      "metadata": {
        "id": "ZhyQGBu3WGiN",
        "colab_type": "code",
        "colab": {
          "base_uri": "https://localhost:8080/",
          "height": 595
        },
        "outputId": "58ad2fac-6bcc-44b2-86fe-5ada01bcf61a"
      },
      "cell_type": "code",
      "source": [
        "import numpy as np\n",
        "from scipy.stats import randint as sp_randint\n",
        "from sklearn.model_selection import RandomizedSearchCV\n",
        "from sklearn.ensemble import RandomForestClassifier\n",
        "\n",
        "# Datos de entrenamiento\n",
        "X, y = x_train, y_train\n",
        "\n",
        "# Construcción del clasificador\n",
        "clf = RandomForestClassifier(n_estimators=512, n_jobs=-1)\n",
        "\n",
        "\n",
        "# Función para mostrar resultados\n",
        "def report(results, n_top=3):\n",
        "    for i in range(1, n_top + 1):\n",
        "        candidates = np.flatnonzero(results['rank_test_score'] == i)\n",
        "        for candidate in candidates:\n",
        "            print(\"Model with rank: {0}\".format(i))\n",
        "            print(\"Mean validation score: {0:.3f} (std: {1:.3f})\".format(\n",
        "                  results['mean_test_score'][candidate],\n",
        "                  results['std_test_score'][candidate]))\n",
        "            print(\"Parameters: {0}\".format(results['params'][candidate]))\n",
        "            print(\"\")\n",
        "\n",
        "\n",
        "# Parámetros y distribuciones para muestrear\n",
        "param_dist = {\"max_depth\": [12,11,10,9,8,7,6,5,4,3,2,None],\n",
        "              \"max_features\": sp_randint(1, 18),\n",
        "              \"min_samples_split\": sp_randint(2, 95),\n",
        "              \"min_samples_leaf\": sp_randint(1, 95),\n",
        "              \"bootstrap\": [True, False], 'class_weight':['balanced', None],\n",
        "              \"criterion\": [\"gini\", \"entropy\"]}\n",
        "\n",
        "# Ejecución\n",
        "n_iter_search = 80\n",
        "random_search = RandomizedSearchCV(clf, scoring= 'f1', param_distributions=param_dist,\n",
        "                                   n_iter=n_iter_search)\n",
        "\n",
        "random_search.fit(X, y)\n",
        "report(random_search.cv_results_)\n"
      ],
      "execution_count": 27,
      "outputs": [
        {
          "output_type": "stream",
          "text": [
            "/usr/local/lib/python3.6/dist-packages/sklearn/metrics/classification.py:1135: UndefinedMetricWarning: F-score is ill-defined and being set to 0.0 due to no predicted samples.\n",
            "  'precision', 'predicted', average, warn_for)\n"
          ],
          "name": "stderr"
        },
        {
          "output_type": "stream",
          "text": [
            "Model with rank: 1\n",
            "Mean validation score: 0.860 (std: 0.001)\n",
            "Parameters: {'bootstrap': False, 'class_weight': None, 'criterion': 'entropy', 'max_depth': 3, 'max_features': 7, 'min_samples_leaf': 53, 'min_samples_split': 91}\n",
            "\n",
            "Model with rank: 2\n",
            "Mean validation score: 0.860 (std: 0.007)\n",
            "Parameters: {'bootstrap': True, 'class_weight': None, 'criterion': 'entropy', 'max_depth': 3, 'max_features': 15, 'min_samples_leaf': 83, 'min_samples_split': 11}\n",
            "\n",
            "Model with rank: 3\n",
            "Mean validation score: 0.860 (std: 0.000)\n",
            "Parameters: {'bootstrap': False, 'class_weight': None, 'criterion': 'entropy', 'max_depth': 3, 'max_features': 5, 'min_samples_leaf': 46, 'min_samples_split': 39}\n",
            "\n",
            "Model with rank: 3\n",
            "Mean validation score: 0.860 (std: 0.000)\n",
            "Parameters: {'bootstrap': False, 'class_weight': None, 'criterion': 'gini', 'max_depth': 2, 'max_features': 17, 'min_samples_leaf': 93, 'min_samples_split': 74}\n",
            "\n",
            "Model with rank: 3\n",
            "Mean validation score: 0.860 (std: 0.000)\n",
            "Parameters: {'bootstrap': True, 'class_weight': None, 'criterion': 'entropy', 'max_depth': 2, 'max_features': 3, 'min_samples_leaf': 71, 'min_samples_split': 13}\n",
            "\n",
            "Model with rank: 3\n",
            "Mean validation score: 0.860 (std: 0.000)\n",
            "Parameters: {'bootstrap': True, 'class_weight': None, 'criterion': 'gini', 'max_depth': 2, 'max_features': 14, 'min_samples_leaf': 58, 'min_samples_split': 31}\n",
            "\n",
            "Model with rank: 3\n",
            "Mean validation score: 0.860 (std: 0.000)\n",
            "Parameters: {'bootstrap': False, 'class_weight': None, 'criterion': 'gini', 'max_depth': 3, 'max_features': 3, 'min_samples_leaf': 63, 'min_samples_split': 38}\n",
            "\n",
            "Model with rank: 3\n",
            "Mean validation score: 0.860 (std: 0.000)\n",
            "Parameters: {'bootstrap': False, 'class_weight': None, 'criterion': 'gini', 'max_depth': 2, 'max_features': 3, 'min_samples_leaf': 63, 'min_samples_split': 61}\n",
            "\n"
          ],
          "name": "stdout"
        }
      ]
    },
    {
      "metadata": {
        "id": "4-x73iRPhNBF",
        "colab_type": "text"
      },
      "cell_type": "markdown",
      "source": [
        "Creación del modelo Random Forest con los parámetros obtenidos:"
      ]
    },
    {
      "metadata": {
        "id": "KRIEwp-ShQnl",
        "colab_type": "code",
        "colab": {}
      },
      "cell_type": "code",
      "source": [
        "clf_rf = RandomForestClassifier(n_estimators = 1024, criterion = 'entropy', \n",
        "                                max_depth = 3, max_features = 7, \n",
        "                                min_samples_leaf = 53, min_samples_split = 91, \n",
        "                                bootstrap=False, oob_score=False, n_jobs=-1, \n",
        "                                class_weight=None)\n",
        "\n",
        "clf_rf.fit(x_train, y_train) # Construcción del modelo\n",
        "\n",
        "preds_rf = clf_rf.predict(x_test) # Test del modelo"
      ],
      "execution_count": 0,
      "outputs": []
    },
    {
      "metadata": {
        "id": "cCpoSqcqhSCG",
        "colab_type": "text"
      },
      "cell_type": "markdown",
      "source": [
        "Visualización de resultados:"
      ]
    },
    {
      "metadata": {
        "id": "oomUu7wshVhw",
        "colab_type": "code",
        "colab": {
          "base_uri": "https://localhost:8080/",
          "height": 255
        },
        "outputId": "2bb4635c-aaa0-491f-dbeb-568d018142b4"
      },
      "cell_type": "code",
      "source": [
        "from sklearn.metrics import classification_report\n",
        "\n",
        "print(\"Random Forest: \\n\" \n",
        "      +classification_report(y_true=test['CLASIFICADOR'], y_pred=preds_rf))\n",
        "\n",
        "# Matriz de confusión\n",
        "\n",
        "print(\"Matriz de confusión:\\n\")\n",
        "matriz = pd.crosstab(test['CLASIFICADOR'], preds_rf, rownames=['actual'], colnames=['preds'])\n",
        "print(matriz)"
      ],
      "execution_count": 24,
      "outputs": [
        {
          "output_type": "stream",
          "text": [
            "Random Forest: \n",
            "             precision    recall  f1-score   support\n",
            "\n",
            "          0       0.19      0.27      0.22        90\n",
            "          1       0.85      0.78      0.82       479\n",
            "\n",
            "avg / total       0.75      0.70      0.72       569\n",
            "\n",
            "Matriz de confusión:\n",
            "\n",
            "preds     0    1\n",
            "actual          \n",
            "0        24   66\n",
            "1       103  376\n"
          ],
          "name": "stdout"
        }
      ]
    },
    {
      "metadata": {
        "id": "GCdymaIphan9",
        "colab_type": "text"
      },
      "cell_type": "markdown",
      "source": [
        "Variables relevantes:"
      ]
    },
    {
      "metadata": {
        "id": "X3YZI_8_hdnI",
        "colab_type": "code",
        "colab": {
          "base_uri": "https://localhost:8080/",
          "height": 425
        },
        "outputId": "7b63569e-38ba-4ebc-f34e-ffac80bc5b12"
      },
      "cell_type": "code",
      "source": [
        "print(\"Relevancia de variables:\\n\")\n",
        "print(pd.DataFrame({'Indicador': features ,\n",
        "              'Relevancia': clf_rf.feature_importances_}),\"\\n\")\n",
        "print(\"Máxima relevancia RF :\" , max(clf_rf.feature_importances_), \"\\n\")"
      ],
      "execution_count": 30,
      "outputs": [
        {
          "output_type": "stream",
          "text": [
            "Relevancia de variables:\n",
            "\n",
            "      Indicador  Relevancia\n",
            "0             1    0.021092\n",
            "1            31    0.259254\n",
            "2            42    0.043690\n",
            "3            46    0.027469\n",
            "4            47    0.018996\n",
            "5            48    0.159873\n",
            "6            60    0.000250\n",
            "7            68    0.021149\n",
            "8            76    0.179013\n",
            "9            77    0.006010\n",
            "10           93    0.015967\n",
            "11          171    0.066723\n",
            "12          173    0.074541\n",
            "13          191    0.034626\n",
            "14          221    0.020436\n",
            "15          225    0.000201\n",
            "16          237    0.000068\n",
            "17  FECHA.month    0.050642 \n",
            "\n",
            "Máxima relevancia RF : 0.2592539658376424 \n",
            "\n"
          ],
          "name": "stdout"
        }
      ]
    }
  ]
}